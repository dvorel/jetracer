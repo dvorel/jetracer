{
 "cells": [
  {
   "cell_type": "code",
   "execution_count": 1,
   "id": "a9b06f88",
   "metadata": {},
   "outputs": [
    {
     "data": {
      "application/vnd.jupyter.widget-view+json": {
       "model_id": "3d320ab7fa0e47569793a82e93b0c8d5",
       "version_major": 2,
       "version_minor": 0
      },
      "text/plain": [
       "Controller()"
      ]
     },
     "metadata": {},
     "output_type": "display_data"
    }
   ],
   "source": [
    "import ipywidgets.widgets as widgets\n",
    "\n",
    "controller = widgets.Controller(index=0)\n",
    "display(controller)\n",
    "\n",
    "import traitlets\n",
    "from jetracer.nvidia_racecar import NvidiaRacecar\n",
    "import cv2\n",
    "import threading\n",
    "from time import sleep"
   ]
  },
  {
   "cell_type": "code",
   "execution_count": 2,
   "id": "c5af5272",
   "metadata": {},
   "outputs": [],
   "source": [
    "car = NvidiaRacecar()\n",
    "\n",
    "\n",
    "\n",
    "steering_l = traitlets.dlink((controller.axes[0], 'value'), (car, 'steering'), transform=lambda x: -x*0.62)\n",
    "throttle_l = traitlets.dlink((controller.buttons[7], 'value'), (car, 'throttle'), transform=lambda x: -(x/3))\n",
    "rikverc_l = traitlets.dlink((controller.buttons[6], 'value'), (car, 'throttle'), transform=lambda x: x)"
   ]
  },
  {
   "cell_type": "code",
   "execution_count": null,
   "id": "4dc4f861",
   "metadata": {},
   "outputs": [],
   "source": [
    "from jetcam.csi_camera import CSICamera\n",
    "\n",
    "camera = CSICamera(width=1280, height=720)\n",
    "# camera = USBCamera(width=224, height=224)\n",
    "\n",
    "camera.running = True"
   ]
  },
  {
   "cell_type": "code",
   "execution_count": null,
   "id": "6f8b3936",
   "metadata": {},
   "outputs": [],
   "source": [
    "camera.unobserve_all()"
   ]
  },
  {
   "cell_type": "code",
   "execution_count": null,
   "id": "c8b8b800",
   "metadata": {},
   "outputs": [],
   "source": [
    "def save_frame():\n",
    "    frame = 0\n",
    "    while True:\n",
    "        if car.throttle < 0.23:\n",
    "            fname = f\"frames/img{frame:04}\"\n",
    "            cv2.imwrite(fname, camera.value.copy())\n",
    "            frame+=1\n",
    "        sleep(0.03)\n",
    "\n",
    "x = threading.Thread(target=save_frame)\n",
    "x.start()\n",
    "    "
   ]
  }
 ],
 "metadata": {
  "kernelspec": {
   "display_name": "Python 3",
   "language": "python",
   "name": "python3"
  },
  "language_info": {
   "codemirror_mode": {
    "name": "ipython",
    "version": 3
   },
   "file_extension": ".py",
   "mimetype": "text/x-python",
   "name": "python",
   "nbconvert_exporter": "python",
   "pygments_lexer": "ipython3",
   "version": "3.6.9"
  }
 },
 "nbformat": 4,
 "nbformat_minor": 5
}
