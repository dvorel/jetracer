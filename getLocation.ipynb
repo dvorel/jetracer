{
 "cells": [
  {
   "cell_type": "code",
   "execution_count": 3,
   "id": "fac78cbe",
   "metadata": {},
   "outputs": [],
   "source": [
    "from marvelmind import MarvelmindHedge\n",
    "from time import sleep\n",
    "import sys"
   ]
  },
  {
   "cell_type": "code",
   "execution_count": 8,
   "id": "3db82f07",
   "metadata": {},
   "outputs": [
    {
     "name": "stdout",
     "output_type": "stream",
     "text": [
      "X len:2|min: -6.644|MAX:-6.571|X:-6.571\n",
      "Y len:2|min: -4.705|MAX:-4.658|Y:-4.658\n"
     ]
    },
    {
     "ename": "KeyboardInterrupt",
     "evalue": "",
     "output_type": "error",
     "traceback": [
      "\u001b[0;31m---------------------------------------------------------------------------\u001b[0m",
      "\u001b[0;31mKeyboardInterrupt\u001b[0m                         Traceback (most recent call last)",
      "\u001b[0;32m<ipython-input-8-cdee3cf5a95a>\u001b[0m in \u001b[0;36m<module>\u001b[0;34m\u001b[0m\n\u001b[1;32m     22\u001b[0m         \u001b[0mprint\u001b[0m\u001b[0;34m(\u001b[0m\u001b[0;34mf\"X len:{len(x)}|min: {min(x)}|MAX:{max(x)}|X:{pos[1]}\"\u001b[0m\u001b[0;34m)\u001b[0m\u001b[0;34m\u001b[0m\u001b[0;34m\u001b[0m\u001b[0m\n\u001b[1;32m     23\u001b[0m         \u001b[0mprint\u001b[0m\u001b[0;34m(\u001b[0m\u001b[0;34mf\"Y len:{len(y)}|min: {min(y)}|MAX:{max(y)}|Y:{pos[2]}\"\u001b[0m\u001b[0;34m)\u001b[0m\u001b[0;34m\u001b[0m\u001b[0;34m\u001b[0m\u001b[0m\n\u001b[0;32m---> 24\u001b[0;31m         \u001b[0msleep\u001b[0m\u001b[0;34m(\u001b[0m\u001b[0;36m1\u001b[0m\u001b[0;34m)\u001b[0m\u001b[0;34m\u001b[0m\u001b[0;34m\u001b[0m\u001b[0m\n\u001b[0m",
      "\u001b[0;31mKeyboardInterrupt\u001b[0m: "
     ]
    }
   ],
   "source": [
    "from IPython.display import clear_output\n",
    "hedge = MarvelmindHedge(tty = \"/dev/gps\", adr=30, debug=False) # create MarvelmindHedge thread\n",
    "hedge.start() # start thread\n",
    "x, y = ([], [])\n",
    "while True:\n",
    "    try:\n",
    "        print (hedge.position()) # get last position and print\n",
    "        pos = hedge.position()\n",
    "        if pos[1]!= 0:\n",
    "            x.append(pos[1])\n",
    "        if pos[2] != 0:\n",
    "            y.append(pos[2])\n",
    "        #hedge.print_position()\n",
    "        if (hedge.distancesUpdated):\n",
    "            print(hedge.distances())\n",
    "            \n",
    "    except KeyboardInterrupt:\n",
    "        hedge.stop()  # stop and close serial port\n",
    "        sys.exit()\n",
    "    if len(x)>0 and len(y)>0:\n",
    "        clear_output()\n",
    "        print(f\"X len:{len(x)}|min: {min(x)}|MAX:{max(x)}|X:{pos[1]}\")\n",
    "        print(f\"Y len:{len(y)}|min: {min(y)}|MAX:{max(y)}|Y:{pos[2]}\")\n",
    "        sleep(1)"
   ]
  },
  {
   "cell_type": "code",
   "execution_count": null,
   "id": "0b70120c",
   "metadata": {},
   "outputs": [],
   "source": []
  },
  {
   "cell_type": "code",
   "execution_count": null,
   "id": "e468d8ee",
   "metadata": {},
   "outputs": [],
   "source": []
  }
 ],
 "metadata": {
  "kernelspec": {
   "display_name": "Python 3",
   "language": "python",
   "name": "python3"
  },
  "language_info": {
   "codemirror_mode": {
    "name": "ipython",
    "version": 3
   },
   "file_extension": ".py",
   "mimetype": "text/x-python",
   "name": "python",
   "nbconvert_exporter": "python",
   "pygments_lexer": "ipython3",
   "version": "3.6.9"
  }
 },
 "nbformat": 4,
 "nbformat_minor": 5
}
